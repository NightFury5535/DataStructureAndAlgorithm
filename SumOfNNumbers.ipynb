{
 "cells": [
  {
   "cell_type": "markdown",
   "metadata": {},
   "source": [
    "<h2>Analysis Of Algorithm</h2>\n",
    "<p>Programs to find sum of N numbers and analysis of each function to run. </p>"
   ]
  },
  {
   "cell_type": "code",
   "execution_count": 18,
   "metadata": {},
   "outputs": [
    {
     "name": "stdout",
     "output_type": "stream",
     "text": [
      "15.0\n",
      "55.0\n",
      "120.0\n"
     ]
    }
   ],
   "source": [
    "def function1(n):\n",
    "    return n*(n+1)/2\n",
    "\n",
    "print(function1(5))\n",
    "\n",
    "print(function1(10))\n",
    "\n",
    "print(function1(15))"
   ]
  },
  {
   "cell_type": "markdown",
   "metadata": {},
   "source": [
    "<p>In function1(n), what ever the input size may be execution time of the function remains constant. As it is running only mathamatical operations. </p>\n",
    "<p>Time: c1</p>"
   ]
  },
  {
   "cell_type": "code",
   "execution_count": 19,
   "metadata": {},
   "outputs": [
    {
     "name": "stdout",
     "output_type": "stream",
     "text": [
      "15\n",
      "55\n",
      "120\n"
     ]
    }
   ],
   "source": [
    "def function2(n):\n",
    "    sum = 0\n",
    "    for i in range(1, n+1):\n",
    "        sum = sum + i\n",
    "    return sum\n",
    "\n",
    "print(function2(5))\n",
    "\n",
    "print(function2(10))\n",
    "\n",
    "print(function2(15))"
   ]
  },
  {
   "cell_type": "markdown",
   "metadata": {},
   "source": [
    "<p>In function2(n), a for loop is present with a range function which is executed n times. With in the for loop there is a matamatical operation which runs for n times. There is the initialization of sum and return statement which is a constant.</p> \n",
    "<p>Time: c2N+c3</p>"
   ]
  },
  {
   "cell_type": "code",
   "execution_count": 20,
   "metadata": {},
   "outputs": [
    {
     "name": "stdout",
     "output_type": "stream",
     "text": [
      "15\n",
      "55\n",
      "120\n"
     ]
    }
   ],
   "source": [
    "def function3(n):\n",
    "    sum1 = 0\n",
    "    for i in range(1,n+1):\n",
    "        for j in range(1,i+1):\n",
    "            sum1 = sum1 + 1\n",
    "    return sum1\n",
    "\n",
    "print(function3(5))\n",
    "\n",
    "print(function3(10))\n",
    "\n",
    "print(function3(15))"
   ]
  },
  {
   "cell_type": "markdown",
   "metadata": {},
   "source": [
    "<p>In function3(n), a for loop is nested with in another for loop. The nested for loop will run for n*(n+1)/2 times. There is the initialization of sum and return statement which is a constant.</p>\n",
    "\n",
    "<p>Time: c3n2/2 + c4n/2 + c5</p>\n",
    "<p>Time: c3n2 + c4n + c5</p>"
   ]
  }
 ],
 "metadata": {
  "kernelspec": {
   "display_name": "Python 3.7.6 ('base')",
   "language": "python",
   "name": "python3"
  },
  "language_info": {
   "codemirror_mode": {
    "name": "ipython",
    "version": 3
   },
   "file_extension": ".py",
   "mimetype": "text/x-python",
   "name": "python",
   "nbconvert_exporter": "python",
   "pygments_lexer": "ipython3",
   "version": "3.7.6"
  },
  "orig_nbformat": 4,
  "vscode": {
   "interpreter": {
    "hash": "ad2bdc8ecc057115af97d19610ffacc2b4e99fae6737bb82f5d7fb13d2f2c186"
   }
  }
 },
 "nbformat": 4,
 "nbformat_minor": 2
}
